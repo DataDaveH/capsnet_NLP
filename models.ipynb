{
 "cells": [
  {
   "cell_type": "code",
   "execution_count": 1,
   "metadata": {},
   "outputs": [
    {
     "name": "stderr",
     "output_type": "stream",
     "text": [
      "Using TensorFlow backend.\n"
     ]
    }
   ],
   "source": [
    "%load_ext autoreload\n",
    "%autoreload 2\n",
    "import numpy as np\n",
    "import tensorflow as tf\n",
    "import keras as K\n",
    "from keras import callbacks, optimizers\n",
    "from keras import backend as KB\n",
    "from keras.engine import Layer\n",
    "from keras.layers import Activation\n",
    "from keras.layers import LeakyReLU, Dense, Input, Embedding, Dropout, Reshape\n",
    "from keras.layers import Bidirectional, GRU, Flatten, SpatialDropout1D, Conv1D\n",
    "from keras.datasets import imdb\n",
    "from keras.preprocessing import sequence\n",
    "from keras.models import Model\n",
    "from keras.utils import to_categorical\n",
    "from common import vocabulary, utils"
   ]
  },
  {
   "cell_type": "code",
   "execution_count": 2,
   "metadata": {},
   "outputs": [
    {
     "name": "stdout",
     "output_type": "stream",
     "text": [
      "Tensorflow version: 1.6.0\n",
      "Keras version: 2.1.5\n"
     ]
    }
   ],
   "source": [
    "print(\"Tensorflow version:\", tf.__version__)\n",
    "print(\"Keras version:\", K.__version__)"
   ]
  },
  {
   "cell_type": "code",
   "execution_count": null,
   "metadata": {
    "collapsed": true
   },
   "outputs": [],
   "source": []
  },
  {
   "cell_type": "markdown",
   "metadata": {},
   "source": [
    "## Load the dataset"
   ]
  },
  {
   "cell_type": "markdown",
   "metadata": {},
   "source": [
    "### First attempt\n",
    "x_train: sentence - list of words  \n",
    "y_train: sentence - list of NER tag\n",
    "\n",
    "### Second attempt (maybe?)\n",
    "x_train: sentence - list of words, POS tags  \n",
    "y_train: sentence - list of NER tags\n",
    "\n",
    "### Notes\n",
    "> Does it makes sense to use 'O' as the padding for the NER tags? Should we use something else?\n",
    "> - Currently, I am using `<s>` and `</s>`  \n",
    "\n",
    "> perhaps we want to try without the I-, B- modifiers\n"
   ]
  },
  {
   "cell_type": "code",
   "execution_count": 3,
   "metadata": {
    "collapsed": true
   },
   "outputs": [],
   "source": [
    "TRAIN_FILE = \"./data/conll2003/eng.train\"\n",
    "DEV_FILE = \"./data/conll2003/eng.testa\"\n",
    "TEST_FILE = \"./data/conll2003/eng.testb\""
   ]
  },
  {
   "cell_type": "code",
   "execution_count": 4,
   "metadata": {},
   "outputs": [
    {
     "name": "stdout",
     "output_type": "stream",
     "text": [
      "-DOCSTART- -X- -X- O\r\n",
      "\r\n",
      "EU NNP I-NP I-ORG\r\n",
      "rejects VBZ I-VP O\r\n",
      "German JJ I-NP I-MISC\r\n",
      "call NN I-NP O\r\n",
      "to TO I-VP O\r\n",
      "boycott VB I-VP O\r\n",
      "British JJ I-NP I-MISC\r\n",
      "lamb NN I-NP O\r\n"
     ]
    }
   ],
   "source": [
    "!head -10 {TRAIN_FILE}"
   ]
  },
  {
   "cell_type": "code",
   "execution_count": 5,
   "metadata": {
    "collapsed": true
   },
   "outputs": [],
   "source": [
    "# this is odd that the B-PER tag doesn't appear... investigate this.\n",
    "!grep \"B-PER\" {TRAIN_FILE}"
   ]
  },
  {
   "cell_type": "code",
   "execution_count": 6,
   "metadata": {
    "collapsed": true
   },
   "outputs": [],
   "source": [
    "def readfile( filename, pos=False):\n",
    "    '''\n",
    "    read the conll2003 file\n",
    "    \n",
    "    filename(string) - path to conll2003 file (train, test, etc.)\n",
    "    pos(boolean) - flag if true will include pos tags in returned list\n",
    "    returns a list of lists of lists corresponding to the words in each sentence\n",
    "    \n",
    "    '''\n",
    "    f = open(filename)\n",
    "    sentences = []\n",
    "    sentence = []\n",
    "    for line in f:\n",
    "        if len(line) == 0 or line.startswith('-DOCSTART') or line[0] == \"\\n\":\n",
    "            if len(sentence) > 0:\n",
    "                sentences.append(sentence)\n",
    "                sentence = []\n",
    "            continue\n",
    "        splits = line.strip().split(' ')\n",
    "        word = [splits[0], splits[1], splits[-1]] if pos else [splits[0], splits[-1]]\n",
    "        sentence.append( word)\n",
    "\n",
    "    if len(sentence) > 0:\n",
    "        sentences.append(sentence)\n",
    "        sentence = []\n",
    "    return sentences"
   ]
  },
  {
   "cell_type": "code",
   "execution_count": 7,
   "metadata": {
    "collapsed": true
   },
   "outputs": [],
   "source": [
    "trainSentences = readfile(TRAIN_FILE, True)"
   ]
  },
  {
   "cell_type": "code",
   "execution_count": 8,
   "metadata": {},
   "outputs": [
    {
     "name": "stdout",
     "output_type": "stream",
     "text": [
      "[['EU', 'NNP', 'I-ORG'], ['rejects', 'VBZ', 'O'], ['German', 'JJ', 'I-MISC'], ['call', 'NN', 'O'], ['to', 'TO', 'O'], ['boycott', 'VB', 'O'], ['British', 'JJ', 'I-MISC'], ['lamb', 'NN', 'O'], ['.', '.', 'O']]\n",
      "[['Peter', 'NNP', 'I-PER'], ['Blackburn', 'NNP', 'I-PER']]\n",
      "[['BRUSSELS', 'NNP', 'I-LOC'], ['1996-08-22', 'CD', 'O']]\n",
      "[['The', 'DT', 'O'], ['European', 'NNP', 'I-ORG'], ['Commission', 'NNP', 'I-ORG'], ['said', 'VBD', 'O'], ['on', 'IN', 'O'], ['Thursday', 'NNP', 'O'], ['it', 'PRP', 'O'], ['disagreed', 'VBD', 'O'], ['with', 'IN', 'O'], ['German', 'JJ', 'I-MISC'], ['advice', 'NN', 'O'], ['to', 'TO', 'O'], ['consumers', 'NNS', 'O'], ['to', 'TO', 'O'], ['shun', 'VB', 'O'], ['British', 'JJ', 'I-MISC'], ['lamb', 'NN', 'O'], ['until', 'IN', 'O'], ['scientists', 'NNS', 'O'], ['determine', 'VBP', 'O'], ['whether', 'IN', 'O'], ['mad', 'JJ', 'O'], ['cow', 'NN', 'O'], ['disease', 'NN', 'O'], ['can', 'MD', 'O'], ['be', 'VB', 'O'], ['transmitted', 'VBN', 'O'], ['to', 'TO', 'O'], ['sheep', 'NN', 'O'], ['.', '.', 'O']]\n"
     ]
    }
   ],
   "source": [
    "for i in range(0, 4):\n",
    "    print(trainSentences[i])"
   ]
  },
  {
   "cell_type": "markdown",
   "metadata": {},
   "source": [
    "## Determine the max sentence length\n",
    "> Let's start by clipping the longest 5%  \n",
    "> This will probably change, but we've got to start somewhere."
   ]
  },
  {
   "cell_type": "code",
   "execution_count": 9,
   "metadata": {
    "collapsed": true
   },
   "outputs": [],
   "source": [
    "trainLens = np.array([ len(s) for s in trainSentences])"
   ]
  },
  {
   "cell_type": "code",
   "execution_count": 10,
   "metadata": {},
   "outputs": [
    {
     "data": {
      "image/png": "[encoded data removed]",
      "text/plain": [
       "<matplotlib.figure.Figure at 0x7f67919a8160>"
      ]
     },
     "metadata": {},
     "output_type": "display_data"
    },
    {
     "name": "stdout",
     "output_type": "stream",
     "text": [
      "Sentences longer than 37.0 words: 5 %\n"
     ]
    }
   ],
   "source": [
    "from matplotlib import pyplot as plt\n",
    "clipPct = 5\n",
    "\n",
    "maxLen = np.percentile(trainLens, 100 - clipPct)\n",
    "histLens = plt.hist(trainLens, bins=30)\n",
    "plt.vlines( maxLen, 0, max(histLens[0]), linestyles=\"dashed\")\n",
    "plt.title(\"Sentence lengths in corpus\")\n",
    "plt.hist(trainLens, bins=30)\n",
    "plt.show()\n",
    "print( \"Sentences longer than\", maxLen, \"words:\", clipPct, \"%\")"
   ]
  },
  {
   "cell_type": "code",
   "execution_count": 11,
   "metadata": {},
   "outputs": [
    {
     "name": "stdout",
     "output_type": "stream",
     "text": [
      "(array([  2.66500000e+03,   3.33600000e+03,   2.12800000e+03,\n",
      "         9.26000000e+02,   8.61000000e+02,   8.54000000e+02,\n",
      "         8.58000000e+02,   6.27000000e+02,   7.23000000e+02,\n",
      "         4.59000000e+02,   3.25000000e+02,   1.37000000e+02,\n",
      "         7.90000000e+01,   3.90000000e+01,   1.00000000e+01,\n",
      "         9.00000000e+00,   2.00000000e+00,   1.00000000e+00,\n",
      "         0.00000000e+00,   0.00000000e+00,   1.00000000e+00,\n",
      "         0.00000000e+00,   0.00000000e+00,   0.00000000e+00,\n",
      "         0.00000000e+00,   0.00000000e+00,   0.00000000e+00,\n",
      "         0.00000000e+00,   0.00000000e+00,   1.00000000e+00]), array([   1.        ,    4.73333333,    8.46666667,   12.2       ,\n",
      "         15.93333333,   19.66666667,   23.4       ,   27.13333333,\n",
      "         30.86666667,   34.6       ,   38.33333333,   42.06666667,\n",
      "         45.8       ,   49.53333333,   53.26666667,   57.        ,\n",
      "         60.73333333,   64.46666667,   68.2       ,   71.93333333,\n",
      "         75.66666667,   79.4       ,   83.13333333,   86.86666667,\n",
      "         90.6       ,   94.33333333,   98.06666667,  101.8       ,\n",
      "        105.53333333,  109.26666667,  113.        ]), <a list of 30 Patch objects>)\n",
      "Max sentence length:  113\n"
     ]
    }
   ],
   "source": [
    "print(histLens)\n",
    "print( \"Max sentence length: \", max(trainLens))"
   ]
  },
  {
   "cell_type": "code",
   "execution_count": 12,
   "metadata": {
    "scrolled": true
   },
   "outputs": [
    {
     "data": {
      "text/plain": [
       "[[['EU', 'NNP', 'I-ORG'],\n",
       "  ['rejects', 'VBZ', 'O'],\n",
       "  ['German', 'JJ', 'I-MISC'],\n",
       "  ['call', 'NN', 'O'],\n",
       "  ['to', 'TO', 'O'],\n",
       "  ['boycott', 'VB', 'O'],\n",
       "  ['British', 'JJ', 'I-MISC'],\n",
       "  ['lamb', 'NN', 'O'],\n",
       "  ['.', '.', 'O']],\n",
       " [['Peter', 'NNP', 'I-PER'], ['Blackburn', 'NNP', 'I-PER']],\n",
       " [['BRUSSELS', 'NNP', 'I-LOC'], ['1996-08-22', 'CD', 'O']],\n",
       " [['The', 'DT', 'O'],\n",
       "  ['European', 'NNP', 'I-ORG'],\n",
       "  ['Commission', 'NNP', 'I-ORG'],\n",
       "  ['said', 'VBD', 'O'],\n",
       "  ['on', 'IN', 'O'],\n",
       "  ['Thursday', 'NNP', 'O'],\n",
       "  ['it', 'PRP', 'O'],\n",
       "  ['disagreed', 'VBD', 'O'],\n",
       "  ['with', 'IN', 'O'],\n",
       "  ['German', 'JJ', 'I-MISC'],\n",
       "  ['advice', 'NN', 'O'],\n",
       "  ['to', 'TO', 'O'],\n",
       "  ['consumers', 'NNS', 'O'],\n",
       "  ['to', 'TO', 'O'],\n",
       "  ['shun', 'VB', 'O'],\n",
       "  ['British', 'JJ', 'I-MISC'],\n",
       "  ['lamb', 'NN', 'O'],\n",
       "  ['until', 'IN', 'O'],\n",
       "  ['scientists', 'NNS', 'O'],\n",
       "  ['determine', 'VBP', 'O'],\n",
       "  ['whether', 'IN', 'O'],\n",
       "  ['mad', 'JJ', 'O'],\n",
       "  ['cow', 'NN', 'O'],\n",
       "  ['disease', 'NN', 'O'],\n",
       "  ['can', 'MD', 'O'],\n",
       "  ['be', 'VB', 'O'],\n",
       "  ['transmitted', 'VBN', 'O'],\n",
       "  ['to', 'TO', 'O'],\n",
       "  ['sheep', 'NN', 'O'],\n",
       "  ['.', '.', 'O']],\n",
       " [['Germany', 'NNP', 'I-LOC'],\n",
       "  [\"'s\", 'POS', 'O'],\n",
       "  ['representative', 'NN', 'O'],\n",
       "  ['to', 'TO', 'O'],\n",
       "  ['the', 'DT', 'O'],\n",
       "  ['European', 'NNP', 'I-ORG'],\n",
       "  ['Union', 'NNP', 'I-ORG'],\n",
       "  [\"'s\", 'POS', 'O'],\n",
       "  ['veterinary', 'JJ', 'O'],\n",
       "  ['committee', 'NN', 'O'],\n",
       "  ['Werner', 'NNP', 'I-PER'],\n",
       "  ['Zwingmann', 'NNP', 'I-PER'],\n",
       "  ['said', 'VBD', 'O'],\n",
       "  ['on', 'IN', 'O'],\n",
       "  ['Wednesday', 'NNP', 'O'],\n",
       "  ['consumers', 'NNS', 'O'],\n",
       "  ['should', 'MD', 'O'],\n",
       "  ['buy', 'VB', 'O'],\n",
       "  ['sheepmeat', 'NN', 'O'],\n",
       "  ['from', 'IN', 'O'],\n",
       "  ['countries', 'NNS', 'O'],\n",
       "  ['other', 'JJ', 'O'],\n",
       "  ['than', 'IN', 'O'],\n",
       "  ['Britain', 'NNP', 'I-LOC'],\n",
       "  ['until', 'IN', 'O'],\n",
       "  ['the', 'DT', 'O'],\n",
       "  ['scientific', 'JJ', 'O'],\n",
       "  ['advice', 'NN', 'O'],\n",
       "  ['was', 'VBD', 'O'],\n",
       "  ['clearer', 'JJR', 'O'],\n",
       "  ['.', '.', 'O']]]"
      ]
     },
     "execution_count": 12,
     "metadata": {},
     "output_type": "execute_result"
    }
   ],
   "source": [
    "trainSentences[:5]"
   ]
  },
  {
   "cell_type": "code",
   "execution_count": 13,
   "metadata": {},
   "outputs": [
    {
     "name": "stdout",
     "output_type": "stream",
     "text": [
      "['Caucasus', 'association', '1.84', '37,000', 'acknowledge', '2,096.10', 'battling', 'LIMITS', 'FI', 'DAILY', '543', 'Dai', '462', 'Asprilla', 'noise', 'Jacek', 'abstentions', 'Bodo', 'horseback', 'Available']\n",
      "Vocab size: 23626\n",
      "['SYM', 'PDT', 'RP', '\"', 'NN', 'DT', 'JJ', \"''\", '.', 'NN|SYM', 'WP$', 'UH', 'PRP', 'NNS', 'TO', 'VBG', 'WRB', 'VB', 'FW', 'RB', 'VBN', '<s>', 'RBR', ':', 'JJS', '</s>', '<unk>', 'NNP', 'RBS', ')', 'VBZ', 'NNPS', 'LS', 'CD', 'EX', 'MD', '$', ',', 'IN', 'POS', 'VBD', 'WDT', 'CC', 'JJR', 'VBP', 'WP', '(', 'PRP$']\n",
      "['I-PER', 'B-MISC', '</s>', '<unk>', 'I-MISC', 'I-ORG', 'B-ORG', 'I-LOC', 'B-LOC', '<s>', 'O']\n"
     ]
    }
   ],
   "source": [
    "# build vocabulary - thank you w266\n",
    "# -- first attempt, leave in all numbers and maintain case\n",
    "flatData = [w for w in zip(*utils.flatten(trainSentences))]\n",
    "\n",
    "# try with lower vocab sizes... 10k, 15k, 20k\n",
    "vocab = vocabulary.Vocabulary( flatData[0])\n",
    "posTags = vocabulary.Vocabulary( flatData[1])\n",
    "nerTags = vocabulary.Vocabulary( flatData[2])\n",
    "\n",
    "print( (list(vocab.wordset)[:20]))\n",
    "print( \"Vocab size:\", vocab.size)\n",
    "print( (list(posTags.wordset)))\n",
    "print( (list(nerTags.wordset)))"
   ]
  },
  {
   "cell_type": "markdown",
   "metadata": {},
   "source": [
    "### This might be a good place to do some EDA on the vocab objects...\n",
    "\n"
   ]
  },
  {
   "cell_type": "markdown",
   "metadata": {},
   "source": [
    "## Done playing around, define the data class"
   ]
  },
  {
   "cell_type": "code",
   "execution_count": 14,
   "metadata": {
    "collapsed": true
   },
   "outputs": [],
   "source": [
    "class conll2003Data(object):\n",
    "    \"\"\"\n",
    "    Keep track of data and processing operations for a single CoNLL2003 data file.\n",
    "    \"\"\"\n",
    "    \n",
    "    def __init__(self, filePath):\n",
    "        \"\"\"\n",
    "        filePath(string): path to a CoNLL2003 raw data file for training the vocabulary\n",
    "        \"\"\"\n",
    "        # vocabulary objects for easy lookup\n",
    "        self.vocab = []\n",
    "        self.posTags = []\n",
    "        self.nerTags = []\n",
    "        \n",
    "        # read in training data\n",
    "        self.sentences = self.readFile(filePath)\n",
    "        \n",
    "    \n",
    "    def readFile( self, filePath):\n",
    "        \"\"\"\n",
    "        Read the conll2003 raw data file\n",
    "\n",
    "        filename(string) - path to conll2003 file (train, test, etc.)\n",
    "        \n",
    "        Returns: a list of lists of lists corresponding to the words, pos tags, and ner tags\n",
    "                 in each sentence\n",
    "\n",
    "        \"\"\"\n",
    "        f = open(filePath)\n",
    "        sentences = []\n",
    "        sentence = []\n",
    "        for line in f:\n",
    "            if len(line) == 0 or line.startswith(\"-DOCSTART\") or line[0] == '\\n':\n",
    "                if len(sentence) > 0:\n",
    "                    sentences.append(sentence)\n",
    "                    sentence = []\n",
    "                continue\n",
    "            \n",
    "            # input format is [ word, pos tag, chunck tag, ner tag]\n",
    "            # we are ignoring the chunck tag\n",
    "            splits = line.strip().split(' ')\n",
    "            word = [splits[0], splits[1], splits[3]]\n",
    "            sentence.append( word)\n",
    "        \n",
    "        # don't forget the last one\n",
    "        if len(sentence) > 0:\n",
    "            sentences.append(sentence)\n",
    "            sentence = []\n",
    "        \n",
    "        return sentences\n",
    "    \n",
    "    def buildVocab( self, vocabSize=None, verbose=False):\n",
    "        \"\"\"\n",
    "        Builds the vocabulary based on the initial data file\n",
    "        \n",
    "        vocabSize(int, default: None-all words) - max number of words to use for vocabulary\n",
    "                                                  (only used for training)\n",
    "        verbose(boolean, default: False)        - print extra info\n",
    "        \"\"\"\n",
    "        \n",
    "        \n",
    "        flatData = [w for w in zip(*utils.flatten(self.sentences))]\n",
    "        self.vocab = vocabulary.Vocabulary( flatData[0], size=vocabSize)\n",
    "        \n",
    "        # remember these vocabs will have the <s>, </s>, and <unk> tags in there\n",
    "        # sizes need to be interpreted \"-3\" - consider replacing...\n",
    "        self.posTags = vocabulary.Vocabulary( flatData[1])\n",
    "        self.nerTags = vocabulary.Vocabulary( flatData[2])\n",
    "        \n",
    "        if verbose is True:\n",
    "            print( list(self.vocab.wordset)[:5], \"\\n\")\n",
    "            print( list(self.posTags.wordset)[:5], \"\\n\")\n",
    "            print( list(self.nerTags.wordset)[:5], \"\\n\")\n",
    "    \n",
    "    def formatPaddedData( self, sentences, clipPct = 5, verbose=False):\n",
    "        \"\"\"\n",
    "        Format the raw data by padding up to a max sentence length to be usable for training.\n",
    "        Make sure to call buildVocab first.\n",
    "        \n",
    "        sentences(list of lists of lists) - raw data from the CoNLL2003 dataset\n",
    "        clipPct(int, default: 5)          - the percentage of sentences to clip when determining the\n",
    "                                            max length to allow\n",
    "        verbose(boolean, default: False)  - print extra info\n",
    "        \n",
    "        Returns: 3 lists:   vocabulary converted to IDs, \n",
    "                            POS tags converted to IDs,\n",
    "                            NER label tag converted to IDs\n",
    "        \"\"\"\n",
    "        # get the maximum sentence length to clip down to (and pad up to) (add 2 for <s> and </s>)\n",
    "        self.maxSentLen = int(np.percentile( np.array([ len(s) for s in self.sentences]), 100.0 - clipPct)) + 2\n",
    "        \n",
    "        # we have a list of lists (sentences) of lists ([word, posTag, nerTag])\n",
    "        # parse through, pad each sentence with open and close tags, then convert to IDs\n",
    "        vocabIDs = [ self.vocab.words_to_ids( self.vocab.pad_sentence([ word[0] for word in sent])) \\\n",
    "                     for sent in sentences]\n",
    "        posIDs = [ self.posTags.words_to_ids( self.posTags.pad_sentence([word[1] for word in sent])) \\\n",
    "                   for sent in sentences]\n",
    "        nerIDs = [ self.nerTags.words_to_ids( ['<s>'] + [word[2] for word in sent] + ['</s>']) \\\n",
    "                   for sent in sentences]\n",
    "        \n",
    "        if verbose is True:\n",
    "            print( vocabIDs[:5], \"\\n\")\n",
    "            print( posIDs[:5], \"\\n\")\n",
    "            print( nerIDs[:5], \"\\n\")\n",
    "\n",
    "        # pad and clip so all sentences are the same length\n",
    "        vocabIDs = sequence.pad_sequences( vocabIDs, maxlen = self.maxSentLen)\n",
    "        posIDs = sequence.pad_sequences( posIDs, maxlen = self.maxSentLen)\n",
    "        nerIDs = sequence.pad_sequences( nerIDs, maxlen = self.maxSentLen, \n",
    "                                         value=self.nerTags.word_to_id['O'])\n",
    "        \n",
    "        return vocabIDs, posIDs, nerIDs\n",
    "    \n",
    "    #\n",
    "    # I think it makes the most sense to generate all the training data up front.\n",
    "    # If we had more data or planned to augment on the fly, it would make more sense to \n",
    "    # use a generator.\n",
    "    # \n",
    "    # window generation notes\n",
    "    #     Don't cross sentence boundaries.\n",
    "    #     This means that each sentence will be padded with (windowLength // 2) open/close\n",
    "    #     tags on each end. Also, when we hit a <s> tag after a </s> tag, start the new\n",
    "    #     window there rather than continuing to slide.\n",
    "    # \n",
    "    def formatWindowedData( self, sentences, windowLength=9, verbose=False):\n",
    "        \"\"\"\n",
    "        Format the raw data by blocking it into context windows of a fixed length corresponding \n",
    "        to the single target NER tag of the central word.\n",
    "        Make sure to call buildVocab first.\n",
    "        \n",
    "        sentences(list of lists of lists) - raw data from the CoNLL2003 dataset\n",
    "        windowLength(int, default: 9)     - The length of the context window\n",
    "                    NOTE - windowLength must be odd to have a central word. If itsn't, 1 will be added.\n",
    "        verbose(boolean, default: False)  - print extra info\n",
    "        \n",
    "        Returns: 3 numpy arrays: vocabulary training data windowed and converted to IDs, \n",
    "                                 POS tags windowed and converted to IDs,\n",
    "                                 NER label tags converted to IDs\n",
    "        \"\"\"\n",
    "        pads = windowLength // 2\n",
    "        \n",
    "        # we have a list of lists (sentences) of lists ([word, posTag, nerTag])\n",
    "        # parse through, pad each sentence with pads open and close tags, then convert to IDs\n",
    "        vocabIDs = [ self.vocab.words_to_ids( [\"<s>\"] * pads + [word[0] for word in sent] + [\"</s>\"] * pads) \\\n",
    "                     for sent in sentences]\n",
    "        posIDs = [ self.posTags.words_to_ids( [\"<s>\"] * pads + [word[1] for word in sent] + [\"</s>\"] * pads) \\\n",
    "                   for sent in sentences]\n",
    "        nerIDs = [ self.nerTags.words_to_ids( [\"<s>\"] * pads + [word[2] for word in sent] + [\"</s>\"] * pads) \\\n",
    "                   for sent in sentences]\n",
    "        \n",
    "        if verbose is True:\n",
    "            print( vocabIDs[:5], \"\\n\")\n",
    "            print( posIDs[:5], \"\\n\")\n",
    "            print( nerIDs[:5], \"\\n\")\n",
    "        \n",
    "        assert(len(vocabIDs) == len(posIDs) and len(posIDs) == len(nerIDs))\n",
    "        \n",
    "        # build the data to train on by sliding the window across each sentence\n",
    "        # at this point, all 3 lists are the same size, so we can run through them all at once\n",
    "        featsVocab, featsPOS, featsNER = [], [], []\n",
    "        for sentID in range( len(vocabIDs)):\n",
    "            sent = vocabIDs[sentID]\n",
    "            sentPOS = posIDs[sentID]\n",
    "            sentNER = nerIDs[sentID]\n",
    "            \n",
    "            for ID in range( len(sent) - windowLength + 1):\n",
    "                featsVocab.append( sent[ID:ID + windowLength])\n",
    "                featsPOS.append( sentPOS[ID:ID + windowLength])\n",
    "                featsNER.append( sentNER[ID + windowLength // 2])\n",
    "        \n",
    "        return np.array(featsVocab), \\\n",
    "               np.array(featsPOS), \\\n",
    "               np.array(featsNER)\n",
    "\n"
   ]
  },
  {
   "cell_type": "markdown",
   "metadata": {},
   "source": [
    "### Test the windowing functionality"
   ]
  },
  {
   "cell_type": "code",
   "execution_count": 15,
   "metadata": {
    "collapsed": true
   },
   "outputs": [],
   "source": [
    "sentences = trainSentences\n",
    "windowLength = 9\n",
    "pads = windowLength // 2\n",
    "verbose = True"
   ]
  },
  {
   "cell_type": "code",
   "execution_count": 16,
   "metadata": {},
   "outputs": [
    {
     "name": "stdout",
     "output_type": "stream",
     "text": [
      "[[0, 0, 0, 0, 959, 11985, 235, 764, 8, 4149, 211, 6184, 3, 1, 1, 1, 1], [0, 0, 0, 0, 734, 2070, 1, 1, 1, 1], [0, 0, 0, 0, 1381, 136, 1, 1, 1, 1]] \n",
      "\n",
      "[[0, 0, 0, 0, 3, 22, 8, 4, 17, 13, 8, 4, 11, 1, 1, 1, 1], [0, 0, 0, 0, 3, 3, 1, 1, 1, 1], [0, 0, 0, 0, 3, 5, 1, 1, 1, 1]] \n",
      "\n",
      "[[0, 0, 0, 0, 5, 3, 7, 3, 3, 3, 7, 3, 3, 1, 1, 1, 1], [0, 0, 0, 0, 4, 4, 1, 1, 1, 1], [0, 0, 0, 0, 6, 3, 1, 1, 1, 1]] \n",
      "\n"
     ]
    }
   ],
   "source": [
    "# we have a list of lists (sentences) of lists ([word, posTag, nerTag])\n",
    "# parse through, pad each sentence with open and close tags, then convert to IDs\n",
    "vocabIDs = [ vocab.words_to_ids( [\"<s>\"] * pads + [word[0] for word in sent] + [\"</s>\"] * pads) \\\n",
    "             for sent in sentences]\n",
    "posIDs = [ posTags.words_to_ids( [\"<s>\"] * pads + [word[1] for word in sent] + [\"</s>\"] * pads) \\\n",
    "           for sent in sentences]\n",
    "nerIDs = [ nerTags.words_to_ids( [\"<s>\"] * pads + [word[2] for word in sent] + [\"</s>\"] * pads) \\\n",
    "           for sent in sentences]\n",
    "\n",
    "if verbose is True:\n",
    "    print( vocabIDs[:3], \"\\n\")\n",
    "    print( posIDs[:3], \"\\n\")\n",
    "    print( nerIDs[:3], \"\\n\")"
   ]
  },
  {
   "cell_type": "code",
   "execution_count": 17,
   "metadata": {},
   "outputs": [
    {
     "name": "stdout",
     "output_type": "stream",
     "text": [
      "[0, 0, 0, 0, 959, 11985, 235, 764, 8, 4149, 211, 6184, 3, 1, 1, 1, 1]\n",
      "[0, 0, 0, 0, 3, 22, 8, 4, 17, 13, 8, 4, 11, 1, 1, 1, 1]\n",
      "[0, 0, 0, 0, 5, 3, 7, 3, 3, 3, 7, 3, 3, 1, 1, 1, 1] \n",
      "\n",
      "[0, 0, 0, 0, 734, 2070, 1, 1, 1, 1]\n",
      "[0, 0, 0, 0, 3, 3, 1, 1, 1, 1]\n",
      "[0, 0, 0, 0, 4, 4, 1, 1, 1, 1]\n",
      "\n",
      "\n",
      "[0, 0, 0, 0, 959, 11985, 235, 764, 8]\n",
      "[0, 0, 0, 0, 3, 22, 8, 4, 17]\n",
      "Center NER tag: 5\n",
      "Center ID: 959 \n",
      "\n",
      "[0, 0, 0, 959, 11985, 235, 764, 8, 4149]\n",
      "[0, 0, 0, 3, 22, 8, 4, 17, 13]\n",
      "Center NER tag: 3\n",
      "Center ID: 11985 \n",
      "\n",
      "[0, 0, 959, 11985, 235, 764, 8, 4149, 211]\n",
      "[0, 0, 3, 22, 8, 4, 17, 13, 8]\n",
      "Center NER tag: 7\n",
      "Center ID: 235 \n",
      "\n",
      "[0, 959, 11985, 235, 764, 8, 4149, 211, 6184]\n",
      "[0, 3, 22, 8, 4, 17, 13, 8, 4]\n",
      "Center NER tag: 3\n",
      "Center ID: 764 \n",
      "\n",
      "[959, 11985, 235, 764, 8, 4149, 211, 6184, 3]\n",
      "[3, 22, 8, 4, 17, 13, 8, 4, 11]\n",
      "Center NER tag: 3\n",
      "Center ID: 8 \n",
      "\n",
      "[11985, 235, 764, 8, 4149, 211, 6184, 3, 1]\n",
      "[22, 8, 4, 17, 13, 8, 4, 11, 1]\n",
      "Center NER tag: 3\n",
      "Center ID: 4149 \n",
      "\n",
      "[235, 764, 8, 4149, 211, 6184, 3, 1, 1]\n",
      "[8, 4, 17, 13, 8, 4, 11, 1, 1]\n",
      "Center NER tag: 7\n",
      "Center ID: 211 \n",
      "\n",
      "[764, 8, 4149, 211, 6184, 3, 1, 1, 1]\n",
      "[4, 17, 13, 8, 4, 11, 1, 1, 1]\n",
      "Center NER tag: 3\n",
      "Center ID: 6184 \n",
      "\n",
      "[8, 4149, 211, 6184, 3, 1, 1, 1, 1]\n",
      "[17, 13, 8, 4, 11, 1, 1, 1, 1]\n",
      "Center NER tag: 3\n",
      "Center ID: 3 \n",
      "\n",
      "[0, 0, 0, 0, 734, 2070, 1, 1, 1]\n",
      "[0, 0, 0, 0, 3, 3, 1, 1, 1]\n",
      "Center NER tag: 4\n",
      "Center ID: 734 \n",
      "\n",
      "[0, 0, 0, 734, 2070, 1, 1, 1, 1]\n",
      "[0, 0, 0, 3, 3, 1, 1, 1, 1]\n",
      "Center NER tag: 4\n",
      "Center ID: 2070 \n",
      "\n"
     ]
    }
   ],
   "source": [
    "# build the data to train on by sliding the window across each sentence\n",
    "# at this point, all 3 lists are the same size, so we can run through them all at once\n",
    "featsVocab, featsPOS, featsNER = [], [], []\n",
    "for sentID in range( len(vocabIDs)):\n",
    "    sent = vocabIDs[sentID]\n",
    "    sentPOS = posIDs[sentID]\n",
    "    sentNER = nerIDs[sentID]\n",
    "    for ID in range( len(sent) - windowLength + 1):\n",
    "        featsVocab.append( sent[ID:ID + windowLength])\n",
    "        featsPOS.append( sentPOS[ID:ID + windowLength])\n",
    "        featsNER.append( sentNER[ID + windowLength // 2])\n",
    "\n",
    "showID = 0\n",
    "print( vocabIDs[showID])\n",
    "print( posIDs[showID])\n",
    "print( nerIDs[showID], '\\n')\n",
    "print( vocabIDs[showID+1])\n",
    "print( posIDs[showID+1])\n",
    "print( nerIDs[showID+1])\n",
    "print( '\\n')\n",
    "for i in range(11):\n",
    "    print( featsVocab[i])\n",
    "    print( featsPOS[i])\n",
    "    print( \"Center NER tag:\", featsNER[i])\n",
    "    print( \"Center ID:\", featsVocab[i][windowLength // 2], '\\n')\n",
    "    "
   ]
  },
  {
   "cell_type": "markdown",
   "metadata": {},
   "source": [
    "## Load the data"
   ]
  },
  {
   "cell_type": "code",
   "execution_count": 18,
   "metadata": {},
   "outputs": [
    {
     "name": "stdout",
     "output_type": "stream",
     "text": [
      "[[0, 0, 0, 0, 959, 11985, 235, 764, 8, 4149, 211, 6184, 3, 1, 1, 1, 1], [0, 0, 0, 0, 734, 2070, 1, 1, 1, 1], [0, 0, 0, 0, 1381, 136, 1, 1, 1, 1], [0, 0, 0, 0, 20, 228, 457, 15, 14, 68, 37, 8129, 26, 235, 4150, 8, 2478, 8, 11986, 211, 6184, 409, 3544, 2071, 501, 1791, 1922, 653, 289, 41, 8130, 8, 1923, 3, 1, 1, 1, 1], [0, 0, 0, 0, 116, 16, 3112, 8, 5, 228, 487, 16, 2752, 1060, 8131, 8132, 15, 14, 73, 2478, 259, 876, 8133, 28, 539, 126, 114, 124, 409, 5, 2479, 4150, 21, 11987, 3, 1, 1, 1, 1]] \n",
      "\n",
      "[[0, 0, 0, 0, 3, 22, 8, 4, 17, 13, 8, 4, 11, 1, 1, 1, 1], [0, 0, 0, 0, 3, 3, 1, 1, 1, 1], [0, 0, 0, 0, 3, 5, 1, 1, 1, 1], [0, 0, 0, 0, 7, 3, 3, 10, 6, 3, 18, 10, 6, 8, 4, 17, 9, 17, 13, 8, 4, 6, 9, 27, 6, 8, 4, 4, 28, 13, 14, 17, 4, 11, 1, 1, 1, 1], [0, 0, 0, 0, 3, 25, 4, 17, 7, 3, 3, 25, 8, 4, 3, 3, 10, 6, 3, 9, 28, 13, 4, 6, 9, 8, 6, 3, 6, 7, 8, 4, 10, 36, 11, 1, 1, 1, 1]] \n",
      "\n",
      "[[0, 0, 0, 0, 5, 3, 7, 3, 3, 3, 7, 3, 3, 1, 1, 1, 1], [0, 0, 0, 0, 4, 4, 1, 1, 1, 1], [0, 0, 0, 0, 6, 3, 1, 1, 1, 1], [0, 0, 0, 0, 3, 5, 5, 3, 3, 3, 3, 3, 3, 7, 3, 3, 3, 3, 3, 7, 3, 3, 3, 3, 3, 3, 3, 3, 3, 3, 3, 3, 3, 3, 1, 1, 1, 1], [0, 0, 0, 0, 6, 3, 3, 3, 3, 5, 5, 3, 3, 3, 4, 4, 3, 3, 3, 3, 3, 3, 3, 3, 3, 3, 3, 6, 3, 3, 3, 3, 3, 3, 3, 1, 1, 1, 1]] \n",
      "\n",
      "Windowed sentence length: 9\n",
      "[[    0     0     0     0   959 11985   235   764     8]\n",
      " [    0     0     0   959 11985   235   764     8  4149]\n",
      " [    0     0   959 11985   235   764     8  4149   211]\n",
      " [    0   959 11985   235   764     8  4149   211  6184]\n",
      " [  959 11985   235   764     8  4149   211  6184     3]\n",
      " [11985   235   764     8  4149   211  6184     3     1]\n",
      " [  235   764     8  4149   211  6184     3     1     1]\n",
      " [  764     8  4149   211  6184     3     1     1     1]\n",
      " [    8  4149   211  6184     3     1     1     1     1]\n",
      " [    0     0     0     0   734  2070     1     1     1]] \n",
      " [5 3 7 3 3 3 7 3 3 4]\n"
     ]
    }
   ],
   "source": [
    "#clipPct = 5\n",
    "windowLength = 9\n",
    "testNumSents = 5000\n",
    "\n",
    "# read in training data\n",
    "vocabData = conll2003Data( TRAIN_FILE)\n",
    "\n",
    "# FOR TESTING\n",
    "#vocabData.sentences = vocabData.sentences[:testNumSents]\n",
    "\n",
    "# not yet using the pos tags\n",
    "# try with lower vocab sizes... 10k, 15k, 20k\n",
    "#vocabData.buildVocab( vocabSize=20000)\n",
    "vocabData.buildVocab( vocabSize=20000)\n",
    "trainX, _, trainY = vocabData.formatWindowedData( vocabData.sentences, \n",
    "                                                  windowLength=windowLength,\n",
    "                                                  verbose=True)\n",
    "\n",
    "# check the first few windows\n",
    "print( \"Windowed sentence length:\", len(trainX[0]))\n",
    "print( trainX[:10], '\\n', trainY[:10])"
   ]
  },
  {
   "cell_type": "code",
   "execution_count": 19,
   "metadata": {},
   "outputs": [
    {
     "name": "stdout",
     "output_type": "stream",
     "text": [
      "[[0, 0, 0, 0, 452, 19, 2, 9044, 8349, 128, 7588, 1828, 16059, 10368, 3, 1, 1, 1, 1], [0, 0, 0, 0, 212, 2749, 1, 1, 1, 1], [0, 0, 0, 0, 292, 905, 6372, 3615, 6347, 266, 155, 17, 1373, 14, 93, 32, 2530, 58, 3173, 29, 42, 274, 12, 1732, 371, 7, 54, 281, 8, 255, 72, 25, 5, 549, 6, 5, 2191, 467, 3, 1, 1, 1, 1], [0, 0, 0, 0, 2501, 1209, 14, 426, 4, 1767, 4, 496, 41, 17973, 32, 859, 2761, 1500, 4, 7170, 12, 1820, 129, 519, 7, 14, 302, 215, 2815, 183, 61, 17, 188, 115, 7, 56, 19891, 149, 77, 2531, 3, 1, 1, 1, 1], [0, 0, 0, 0, 932, 5882, 3173, 67, 17, 3338, 14, 5, 739, 551, 25, 2, 5879, 4, 2530, 3589, 56, 49, 274, 29, 6350, 371, 111, 234, 4479, 67, 17, 2, 26, 134, 2, 2841, 10895, 450, 87, 17, 3338, 3, 1, 1, 1, 1]] \n",
      "\n",
      "[[0, 0, 0, 0, 3, 23, 3, 3, 6, 3, 3, 3, 3, 4, 11, 1, 1, 1, 1], [0, 0, 0, 0, 3, 5, 1, 1, 1, 1], [0, 0, 0, 0, 3, 3, 4, 3, 3, 10, 5, 6, 5, 6, 3, 6, 3, 10, 3, 6, 7, 4, 16, 5, 9, 6, 5, 9, 17, 13, 6, 6, 7, 4, 6, 7, 4, 4, 11, 1, 1, 1, 1], [0, 0, 0, 0, 26, 4, 6, 4, 12, 15, 12, 28, 13, 8, 6, 4, 9, 3, 12, 3, 16, 3, 7, 10, 31, 6, 4, 6, 3, 10, 31, 6, 14, 4, 6, 26, 8, 4, 6, 3, 11, 1, 1, 1, 1], [0, 0, 0, 0, 6, 21, 3, 31, 6, 5, 6, 7, 4, 4, 6, 3, 3, 12, 3, 10, 26, 8, 4, 6, 5, 22, 6, 21, 10, 31, 6, 5, 6, 3, 27, 3, 3, 21, 5, 6, 5, 11, 1, 1, 1, 1]] \n",
      "\n",
      "[[0, 0, 0, 0, 3, 3, 5, 3, 3, 3, 3, 3, 3, 3, 3, 1, 1, 1, 1], [0, 0, 0, 0, 6, 3, 1, 1, 1, 1], [0, 0, 0, 0, 7, 7, 3, 4, 4, 3, 3, 3, 3, 3, 3, 3, 5, 3, 5, 3, 3, 3, 3, 3, 3, 3, 3, 3, 3, 3, 3, 3, 3, 3, 3, 3, 3, 3, 3, 1, 1, 1, 1], [0, 0, 0, 0, 3, 3, 3, 3, 3, 3, 3, 3, 3, 3, 3, 3, 3, 5, 3, 5, 3, 5, 3, 3, 3, 3, 3, 3, 5, 3, 3, 3, 3, 3, 3, 3, 3, 3, 3, 5, 3, 1, 1, 1, 1], [0, 0, 0, 0, 3, 3, 5, 3, 3, 3, 3, 3, 3, 3, 3, 6, 6, 3, 5, 3, 3, 3, 3, 3, 3, 3, 3, 3, 3, 3, 3, 3, 3, 6, 3, 4, 4, 3, 3, 3, 3, 3, 1, 1, 1, 1]] \n",
      "\n",
      "Padded sentence length: 9\n",
      "[[    0     0     0     0   452    19     2  9044  8349]\n",
      " [    0     0     0   452    19     2  9044  8349   128]\n",
      " [    0     0   452    19     2  9044  8349   128  7588]\n",
      " [    0   452    19     2  9044  8349   128  7588  1828]\n",
      " [  452    19     2  9044  8349   128  7588  1828 16059]\n",
      " [   19     2  9044  8349   128  7588  1828 16059 10368]\n",
      " [    2  9044  8349   128  7588  1828 16059 10368     3]\n",
      " [ 9044  8349   128  7588  1828 16059 10368     3     1]\n",
      " [ 8349   128  7588  1828 16059 10368     3     1     1]\n",
      " [  128  7588  1828 16059 10368     3     1     1     1]\n",
      " [ 7588  1828 16059 10368     3     1     1     1     1]\n",
      " [    0     0     0     0   212  2749     1     1     1]] \n",
      " [3 3 5 3 3 3 3 3 3 3 3 6]\n"
     ]
    }
   ],
   "source": [
    "# read in dev data\n",
    "devSents = vocabData.readFile( DEV_FILE)\n",
    "\n",
    "# FOR TESTING\n",
    "#devSents = devSents[:testNumSents]\n",
    "\n",
    "# not yet using the pos tags\n",
    "devX, _, devY = vocabData.formatWindowedData( devSents, \n",
    "                                              windowLength=windowLength,\n",
    "                                              verbose=True)\n",
    "\n",
    "print( \"Padded sentence length:\", len(devX[0]))\n",
    "print( devX[:12], '\\n', devY[:12])"
   ]
  },
  {
   "cell_type": "code",
   "execution_count": 20,
   "metadata": {},
   "outputs": [
    {
     "name": "stdout",
     "output_type": "stream",
     "text": [
      "[[0, 0, 0, 0, 127, 19, 2, 2, 2, 1436, 4, 2, 471, 2, 15306, 3, 1, 1, 1, 1], [0, 0, 0, 0, 2, 2, 1, 1, 1, 1], [0, 0, 0, 0, 2, 4, 167, 1124, 12138, 2, 1, 1, 1, 1], [0, 0, 0, 0, 216, 531, 5, 1136, 6, 56, 5300, 206, 859, 26, 9, 9010, 934, 181, 77, 1674, 7, 9, 957, 1772, 467, 149, 14, 93, 3, 1, 1, 1, 1], [0, 0, 0, 0, 108, 202, 1269, 56, 6568, 13066, 186, 7, 5, 81, 149, 6, 5, 139, 4, 6959, 8, 9, 3245, 750, 1088, 8, 2, 2, 3, 1, 1, 1, 1]] \n",
      "\n",
      "[[0, 0, 0, 0, 4, 23, 3, 13, 3, 3, 12, 3, 6, 7, 4, 11, 1, 1, 1, 1], [0, 0, 0, 0, 3, 3, 1, 1, 1, 1], [0, 0, 0, 0, 3, 12, 3, 3, 29, 5, 1, 1, 1, 1], [0, 0, 0, 0, 3, 10, 7, 4, 6, 26, 8, 3, 4, 6, 7, 8, 5, 27, 6, 3, 6, 7, 3, 3, 4, 4, 6, 3, 11, 1, 1, 1, 1], [0, 0, 0, 0, 16, 3, 10, 26, 4, 13, 18, 6, 7, 4, 4, 6, 7, 4, 12, 21, 17, 7, 4, 5, 4, 17, 9, 3, 11, 1, 1, 1, 1]] \n",
      "\n",
      "[[0, 0, 0, 0, 3, 3, 6, 3, 3, 3, 3, 4, 3, 3, 3, 3, 1, 1, 1, 1], [0, 0, 0, 0, 4, 4, 1, 1, 1, 1], [0, 0, 0, 0, 6, 3, 6, 6, 6, 3, 1, 1, 1, 1], [0, 0, 0, 0, 6, 3, 3, 3, 3, 3, 7, 7, 3, 3, 3, 3, 3, 3, 3, 6, 3, 3, 3, 3, 3, 3, 3, 3, 3, 1, 1, 1, 1], [0, 0, 0, 0, 3, 6, 3, 3, 3, 3, 3, 3, 3, 3, 3, 3, 3, 3, 3, 3, 3, 3, 3, 3, 3, 3, 3, 6, 3, 1, 1, 1, 1]] \n",
      "\n",
      "Padded sentence length: 9\n",
      "[[    0     0     0     0   127    19     2     2     2]\n",
      " [    0     0     0   127    19     2     2     2  1436]\n",
      " [    0     0   127    19     2     2     2  1436     4]\n",
      " [    0   127    19     2     2     2  1436     4     2]\n",
      " [  127    19     2     2     2  1436     4     2   471]\n",
      " [   19     2     2     2  1436     4     2   471     2]\n",
      " [    2     2     2  1436     4     2   471     2 15306]\n",
      " [    2     2  1436     4     2   471     2 15306     3]\n",
      " [    2  1436     4     2   471     2 15306     3     1]\n",
      " [ 1436     4     2   471     2 15306     3     1     1]\n",
      " [    4     2   471     2 15306     3     1     1     1]\n",
      " [    2   471     2 15306     3     1     1     1     1]] \n",
      " [3 3 6 3 3 3 3 4 3 3 3 3]\n"
     ]
    }
   ],
   "source": [
    "# read in the test data\n",
    "testSents = vocabData.readFile( TEST_FILE)\n",
    "\n",
    "# not yet using the pos tags\n",
    "testX, _, testY = vocabData.formatWindowedData( testSents, \n",
    "                                                windowLength=windowLength,\n",
    "                                                verbose=True)\n",
    "\n",
    "print( \"Padded sentence length:\", len(testX[0]))\n",
    "print( testX[:12], '\\n', testY[:12])"
   ]
  },
  {
   "cell_type": "markdown",
   "metadata": {},
   "source": [
    "- - -  \n",
    "### Investigate NER tags\n",
    "> We can see that the dev set doesn't have `B-LOG` or `B-ORG`.  \n",
    "\n",
    "- - -"
   ]
  },
  {
   "cell_type": "code",
   "execution_count": 21,
   "metadata": {},
   "outputs": [
    {
     "name": "stdout",
     "output_type": "stream",
     "text": [
      "['O', 'I-PER', 'I-ORG', 'I-LOC', 'I-MISC', 'B-MISC', 'B-ORG', 'B-LOC']\n",
      "{'I-PER', 'B-MISC', '</s>', '<unk>', 'I-MISC', 'I-ORG', 'B-ORG', 'I-LOC', 'B-LOC', '<s>', 'O'}\n"
     ]
    }
   ],
   "source": [
    "s = set([i for i in trainY.flatten()])\n",
    "print(vocabData.nerTags.ids_to_words(s))\n",
    "print(vocabData.nerTags.wordset)"
   ]
  },
  {
   "cell_type": "code",
   "execution_count": 22,
   "metadata": {},
   "outputs": [
    {
     "name": "stdout",
     "output_type": "stream",
     "text": [
      "['O', 'I-PER', 'I-ORG', 'I-LOC', 'I-MISC', 'B-MISC']\n",
      "{'I-PER', 'B-MISC', '</s>', '<unk>', 'I-MISC', 'I-ORG', 'B-ORG', 'I-LOC', 'B-LOC', '<s>', 'O'}\n"
     ]
    }
   ],
   "source": [
    "s = set([i for i in devY.flatten()])\n",
    "print(vocabData.nerTags.ids_to_words(s))\n",
    "print(vocabData.nerTags.wordset)"
   ]
  },
  {
   "cell_type": "code",
   "execution_count": 23,
   "metadata": {},
   "outputs": [
    {
     "name": "stdout",
     "output_type": "stream",
     "text": [
      "['O', 'I-PER', 'I-ORG', 'I-LOC', 'I-MISC', 'B-MISC', 'B-ORG', 'B-LOC']\n",
      "{'I-PER', 'B-MISC', '</s>', '<unk>', 'I-MISC', 'I-ORG', 'B-ORG', 'I-LOC', 'B-LOC', '<s>', 'O'}\n"
     ]
    }
   ],
   "source": [
    "s = set([i for i in testY.flatten()])\n",
    "print(vocabData.nerTags.ids_to_words(s))\n",
    "print(vocabData.nerTags.wordset)"
   ]
  },
  {
   "cell_type": "code",
   "execution_count": 24,
   "metadata": {},
   "outputs": [
    {
     "name": "stdout",
     "output_type": "stream",
     "text": [
      "Counter({'O': 169578, 'I-PER': 11128, 'I-ORG': 10001, 'I-LOC': 8286, 'I-MISC': 4556, 'B-MISC': 37, 'B-ORG': 24, 'B-LOC': 11})\n",
      "8\n"
     ]
    }
   ],
   "source": [
    "print( vocabData.nerTags.unigram_counts)\n",
    "print( len(vocabData.nerTags.unigram_counts))"
   ]
  },
  {
   "cell_type": "code",
   "execution_count": 25,
   "metadata": {},
   "outputs": [
    {
     "name": "stdout",
     "output_type": "stream",
     "text": [
      "3 O \t 169578\n",
      "4 I-PER \t 11128\n",
      "5 I-ORG \t 10001\n",
      "6 I-LOC \t 8286\n",
      "7 I-MISC \t 4556\n",
      "8 B-MISC \t 37\n",
      "9 B-ORG \t 24\n",
      "10 B-LOC \t 11\n"
     ]
    }
   ],
   "source": [
    "from collections import Counter\n",
    "bc = Counter()\n",
    "a = []\n",
    "flatX = trainX.flatten()\n",
    "flatY = trainY.flatten()\n",
    "for j, i in enumerate(flatY):\n",
    "    if i == 10:\n",
    "        a += [j]\n",
    "        #print(vocabData.vocab.id_to_word[flatX[j]])\n",
    "    bc[int(i)] += 1\n",
    "\n",
    "for key, v in sorted(bc.items(), key=lambda i: i[0]):\n",
    "    print( key, vocabData.nerTags.id_to_word[int(key)], '\\t', v)\n"
   ]
  },
  {
   "cell_type": "code",
   "execution_count": 29,
   "metadata": {},
   "outputs": [
    {
     "name": "stdout",
     "output_type": "stream",
     "text": [
      "1832589\n",
      "203621\n"
     ]
    }
   ],
   "source": [
    "print(len(flatX))\n",
    "print(len(flatY))"
   ]
  },
  {
   "cell_type": "code",
   "execution_count": 26,
   "metadata": {},
   "outputs": [
    {
     "name": "stdout",
     "output_type": "stream",
     "text": [
      "[1819, 126796, 126806, 126815, 126825, 126834, 126842, 126852, 126861, 126870, 160096]\n",
      "<s> ['to', 'review', 'his', '<s>', '<s>', 'But', 'Fischler', 'agreed']\n",
      "B-LOC ['O', 'O', 'I-LOC', 'I-LOC', 'B-LOC', 'O', 'O', 'I-LOC']\n",
      "lock [',', 'but', 'they', 'could', 'lock', 'horns', 'in', 'the']\n",
      "B-LOC ['O', 'O', 'O', 'I-LOC', 'B-LOC', 'O', 'O', 'O']\n",
      "in ['they', 'could', 'lock', 'horns', 'in', 'the', 'semis', '.']\n",
      "B-LOC ['O', 'O', 'O', 'I-LOC', 'B-LOC', 'O', 'O', 'O']\n",
      "the ['could', 'lock', 'horns', 'in', 'the', 'semis', '.', '</s>']\n",
      "B-LOC ['O', 'O', 'O', 'I-LOC', 'B-LOC', 'O', 'O', 'O']\n",
      ". ['horns', 'in', 'the', 'semis', '.', '</s>', '</s>', 'lock']\n",
      "B-LOC ['O', 'O', 'I-LOC', 'I-LOC', 'B-LOC', 'O', 'O', 'O']\n",
      "</s> ['in', 'the', 'semis', '.', '</s>', '</s>', '</s>', 'horns']\n",
      "B-LOC ['O', 'O', 'O', 'I-LOC', 'B-LOC', 'O', 'O', 'O']\n",
      "</s> ['in', 'the', 'semis', '.', '</s>', '</s>', '</s>', '</s>']\n",
      "B-LOC ['O', 'O', 'O', 'I-LOC', 'B-LOC', 'O', 'O', 'O']\n",
      "Agassi ['<s>', '<s>', 'Olympic', 'champion', 'Agassi', 'meets', 'Karim', '<s>']\n",
      "B-LOC ['O', 'O', 'I-LOC', 'I-LOC', 'B-LOC', 'O', 'O', 'O']\n",
      "meets ['<s>', 'Olympic', 'champion', 'Agassi', 'meets', 'Karim', 'Alami', '<s>']\n",
      "B-LOC ['O', 'O', 'O', 'I-LOC', 'B-LOC', 'O', 'O', 'O']\n",
      "Karim ['Olympic', 'champion', 'Agassi', 'meets', 'Karim', 'Alami', 'of', '<s>']\n",
      "B-LOC ['O', 'O', 'O', 'I-LOC', 'B-LOC', 'O', 'O', 'O']\n",
      "charged ['in', 'custody', 'on', 'Wednesday', 'charged', 'with', 'attempted', 'murder']\n",
      "B-LOC ['O', 'O', 'O', 'I-LOC', 'B-LOC', 'I-LOC', 'O', 'O']\n"
     ]
    }
   ],
   "source": [
    "print(a)\n",
    "for j in a:\n",
    "    print( vocabData.vocab.id_to_word[trainX[j]], vocabData.vocab.ids_to_words(flatX[j-4:j+4]))\n",
    "    print( vocabData.nerTags.id_to_word[flatY[j]], vocabData.nerTags.ids_to_words(flatY[j-4:j+4]))"
   ]
  },
  {
   "cell_type": "markdown",
   "metadata": {},
   "source": [
    "## Build the model"
   ]
  },
  {
   "cell_type": "code",
   "execution_count": 27,
   "metadata": {
    "collapsed": true
   },
   "outputs": [],
   "source": [
    "# capsule layers from Xifeng Guo \n",
    "# https://github.com/XifengGuo/CapsNet-Keras\n",
    "from capsulelayers import CapsuleLayer, PrimaryCap, Length, Mask"
   ]
  },
  {
   "cell_type": "code",
   "execution_count": 28,
   "metadata": {
    "collapsed": true
   },
   "outputs": [],
   "source": [
    "# Reshape y from all labels to a row per class\n",
    "trainY_cat = to_categorical(trainY.astype('float32'))\n",
    "# num_classes is required because the dev set doesn't have all the tags represented\n",
    "devY_cat = to_categorical(devY.astype('float32'), num_classes=trainY_cat.shape[1])\n",
    "testY_cat = to_categorical(testY.astype('float32'), num_classes=trainY_cat.shape[1])"
   ]
  },
  {
   "cell_type": "code",
   "execution_count": 29,
   "metadata": {},
   "outputs": [
    {
     "data": {
      "text/plain": [
       "11"
      ]
     },
     "execution_count": 29,
     "metadata": {},
     "output_type": "execute_result"
    }
   ],
   "source": [
    "len(trainY_cat[0])"
   ]
  },
  {
   "cell_type": "code",
   "execution_count": 30,
   "metadata": {
    "scrolled": true
   },
   "outputs": [
    {
     "name": "stdout",
     "output_type": "stream",
     "text": [
      "0 0\n",
      "1 0\n",
      "2 0\n",
      "3 169578\n",
      "4 180706\n",
      "5 190707\n",
      "6 198993\n",
      "7 203549\n",
      "8 203586\n",
      "9 203610\n",
      "10 203621\n",
      "New shape of train: (203621, 11)\n",
      "New shape of dev: (51362, 11)\n",
      "New shape of test: (46435, 11)\n"
     ]
    }
   ],
   "source": [
    "# look at the 1-hot representation\n",
    "totes = 0\n",
    "for n in range(vocabData.nerTags.size):\n",
    "    for i in trainY_cat:\n",
    "        if i[n] == 1:\n",
    "            totes += 1\n",
    "    print(n, totes)\n",
    "\n",
    "print( \"New shape of train:\", trainY_cat.shape)\n",
    "print( \"New shape of dev:\", devY_cat.shape)\n",
    "print( \"New shape of test:\", testY_cat.shape)"
   ]
  },
  {
   "cell_type": "markdown",
   "metadata": {},
   "source": [
    "### We have a few extra tags in the NER vocab for padding and such. We'll shrink the vectors and remove these unnecessary targets."
   ]
  },
  {
   "cell_type": "code",
   "execution_count": 31,
   "metadata": {
    "collapsed": true
   },
   "outputs": [],
   "source": [
    "trainY_cat = np.array(list(map( lambda i: np.array(i[3:], dtype=np.float), trainY_cat)), dtype=np.float)\n",
    "devY_cat = np.array(list(map( lambda i: np.array(i[3:], dtype=np.float), devY_cat)), dtype=np.float)\n",
    "testY_cat = np.array(list(map( lambda i: np.array(i[3:], dtype=np.float), testY_cat)), dtype=np.float)"
   ]
  },
  {
   "cell_type": "code",
   "execution_count": 32,
   "metadata": {},
   "outputs": [
    {
     "name": "stdout",
     "output_type": "stream",
     "text": [
      "0 169578\n",
      "1 180706\n",
      "2 190707\n",
      "3 198993\n",
      "4 203549\n",
      "5 203586\n",
      "6 203610\n",
      "7 203621\n",
      "New shape of train: (203621, 8)\n",
      "New shape of dev: (51362, 8)\n"
     ]
    }
   ],
   "source": [
    "# Make sure it worked\n",
    "totes = 0\n",
    "for n in range(trainY_cat.shape[1]):\n",
    "    for i in trainY_cat:\n",
    "        if i[n] == 1:\n",
    "            totes += 1\n",
    "    print(n, totes)\n",
    "\n",
    "print( \"New shape of train:\", trainY_cat.shape)\n",
    "print( \"New shape of dev:\", devY_cat.shape)\n",
    "#print( \"New shape of test:\", testY_cat.shape)"
   ]
  },
  {
   "cell_type": "code",
   "execution_count": 33,
   "metadata": {},
   "outputs": [
    {
     "data": {
      "text/plain": [
       "20000"
      ]
     },
     "execution_count": 33,
     "metadata": {},
     "output_type": "execute_result"
    }
   ],
   "source": [
    "vocabData.vocab.size"
   ]
  },
  {
   "cell_type": "code",
   "execution_count": 34,
   "metadata": {
    "collapsed": true
   },
   "outputs": [],
   "source": [
    "#Define hyperparameters\n",
    "max_features = vocabData.vocab.size\n",
    "maxlen = trainX.shape[1]\n",
    "ner_classes = trainY_cat.shape[1]\n",
    "embed_dim = 50\n",
    "num_routing = 3\n",
    "\n",
    "save_dir = './result'\n",
    "batch_size = 100\n",
    "debug = 2\n",
    "epochs = 5\n",
    "dropout_p = 0.25\n",
    "embed_dropout = 0.25\n",
    "lam_recon = 0.0005\n",
    "\n",
    "#Load train and test data\n",
    "#(x_train, y_train), (x_test, y_test) = reuters.load_data(num_words=max_features)\n",
    "#x_train = sequence.pad_sequences(x_train, maxlen=maxlen)\n",
    "#x_test = sequence.pad_sequences(x_test, maxlen=maxlen)\n",
    "\n"
   ]
  },
  {
   "cell_type": "code",
   "execution_count": 35,
   "metadata": {},
   "outputs": [
    {
     "name": "stdout",
     "output_type": "stream",
     "text": [
      "embed (?, 9, 50)\n",
      "ner_caps (?, 8, 16)\n",
      "out_caps (?, 8)\n"
     ]
    }
   ],
   "source": [
    "#from keras import Sequential\n",
    "#Build embedding and convolutional layers\n",
    "\n",
    "x = Input(shape=(maxlen,))\n",
    "embed = Embedding(max_features, embed_dim, input_length=maxlen, embeddings_initializer=\"random_uniform\" )(x)\n",
    "\n",
    "# only needed for conv2D (ie without conv1D...)\n",
    "#embed = Reshape( ( maxlen, embed_dim, 1))(embed)\n",
    "\n",
    "#add dropout here... spatial1d I think it is...\n",
    "#embed = SpatialDropout1D(embed_dropout)(embed)\n",
    "\n",
    "# maybe add this back in!! - make sure to consider the window length\n",
    "#conv1 = Conv1D( filters=256, kernel_size=3, strides=1, padding='valid', \n",
    "#                      activation='relu', name='conv1')(embed)\n",
    "\n",
    "print( \"embed\", embed.get_shape())\n",
    "    \n",
    "# Layer 2: Conv2D layer with `squash` activation, then reshape to \n",
    "# kernel_size should be smaller than window size... maybe half of window size?\n",
    "# [None, num_capsule, dim_vector]\n",
    "primarycaps = PrimaryCap( embed, dim_capsule=8, \n",
    "                          n_channels=32, kernel_size=(windowLength // 2),#, embed_dim),#<-- make it like 1D windowLength // 2, \n",
    "                          strides=1, padding='valid')\n",
    "\n",
    "# Layer 3: Capsule layer. Routing algorithm works here.\n",
    "ner_caps = CapsuleLayer( num_capsule=ner_classes, dim_capsule=16, \n",
    "                         routings=num_routing, name='nercaps')(primarycaps)\n",
    "\n",
    "\n",
    "# Layer 4: This is an auxiliary layer to replace each capsule with its length. \n",
    "# Just to match the true label's shape.\n",
    "# If using tensorflow, this will not be necessary. :)\n",
    "print( \"ner_caps\", ner_caps.get_shape())\n",
    "out_caps = Length(name='out_caps')(ner_caps)\n",
    "print( \"out_caps\", out_caps.get_shape())\n",
    "\n",
    "# Decoder network. - probably get the dims right then flatten it\n",
    "\n",
    "\n",
    "#not these...\n",
    "#y = Reshape( ( maxlen * ner_classes,), input_shape=( trainY.shape[1], trainY.shape[2],))\n",
    "#y = Flatten( )(y)\n",
    "#y = KB.reshape( y, ( maxlen * ner_classes,))\n",
    "#print(\"y shape:\", y.)\n",
    "#print(ner_caps.shape[1], ner_caps.shape[2], ner_caps.shape[1] * ner_caps.shape[2])\n",
    "#ner_caps = Reshape((ner_caps.shape[1] * ner_caps.shape[2],))(ner_caps)\n",
    "\n",
    "\n",
    "#y = Input(shape=(ner_classes,))\n",
    "\n",
    "#masked = Mask()([ner_caps, y])  # The true label is used to mask the output of capsule layer.\n",
    "#x_recon = Dense(512, activation='relu')(y)#(masked)\n",
    "#x_recon = Dense(1024, activation='relu')(x_recon)\n",
    "#x_recon = Dense(maxlen, activation='sigmoid')(x_recon)\n",
    "\n",
    "# maybe change to a sampled softmax!\n",
    "#x_recon = Dense( max_features, activation='softmax')(x_recon)\n",
    "\n",
    "\n",
    "# x_recon = layers.Reshape(target_shape=[1], name='out_recon')(x_recon)\n",
    "\n",
    "capsmodel = Model([x], [out_caps])\n",
    "#capsmodel = Model([x, y], [out_caps, x_recon])\n",
    "#capsmodel = Model([y], [x_recon])"
   ]
  },
  {
   "cell_type": "code",
   "execution_count": 36,
   "metadata": {},
   "outputs": [
    {
     "name": "stdout",
     "output_type": "stream",
     "text": [
      "_________________________________________________________________\n",
      "Layer (type)                 Output Shape              Param #   \n",
      "=================================================================\n",
      "input_1 (InputLayer)         (None, 9)                 0         \n",
      "_________________________________________________________________\n",
      "embedding_1 (Embedding)      (None, 9, 50)             1000000   \n",
      "_________________________________________________________________\n",
      "primarycap_conv2d (Conv1D)   (None, 6, 256)            51456     \n",
      "_________________________________________________________________\n",
      "primarycap_reshape (Reshape) (None, 192, 8)            0         \n",
      "_________________________________________________________________\n",
      "primarycap_squash (Lambda)   (None, 192, 8)            0         \n",
      "_________________________________________________________________\n",
      "nercaps (CapsuleLayer)       (None, 8, 16)             196608    \n",
      "_________________________________________________________________\n",
      "out_caps (Length)            (None, 8)                 0         \n",
      "=================================================================\n",
      "Total params: 1,248,064\n",
      "Trainable params: 1,248,064\n",
      "Non-trainable params: 0\n",
      "_________________________________________________________________\n"
     ]
    }
   ],
   "source": [
    "#Saving weights and logging\n",
    "log = callbacks.CSVLogger(save_dir + '/log.csv')\n",
    "tb = callbacks.TensorBoard(log_dir=save_dir + '/tensorboard-logs', \n",
    "                           batch_size=batch_size, histogram_freq=debug)\n",
    "checkpoint = callbacks.ModelCheckpoint(save_dir + '/weights-{epoch:02d}.h5', \n",
    "                                       save_best_only=True, \n",
    "                                       save_weights_only=True, \n",
    "                                       verbose=1)\n",
    "#lr_decay = callbacks.LearningRateScheduler(schedule=lambda epoch: 0.001 * np.exp(-epoch / 10.))\n",
    "\n",
    "#margin_loss\n",
    "def margin_loss(y_true, y_pred):\n",
    "    L = y_true * KB.square(KB.maximum(0., 0.9 - y_pred)) + 0.5 * (1 - y_true) * KB.square(KB.maximum(0., y_pred - 0.1))\n",
    "    return KB.mean(KB.sum(L, 1))\n",
    "\n",
    "capsmodel.summary()\n",
    "\n",
    "#Save a png of the model shapes and flow\n",
    "#plot_model(capsmodel, to_file=save_dir + '/reuters-model.png', show_shapes=True)\n",
    "\n",
    "opt = optimizers.Adam(lr=0.001, beta_1=0.9, beta_2=0.999, epsilon=None, decay=0.0, amsgrad=False)\n",
    "#opt = optimizers.SGD(lr=0.001, decay=1e-6, momentum=0.5, nesterov=True)\n"
   ]
  },
  {
   "cell_type": "code",
   "execution_count": 37,
   "metadata": {},
   "outputs": [
    {
     "name": "stdout",
     "output_type": "stream",
     "text": [
      "Train on 203621 samples, validate on 51362 samples\n",
      "Epoch 1/5\n",
      "203621/203621 [==============================] - 121s 595us/step - loss: 0.1250 - acc: 0.8823 - val_loss: 0.0298 - val_acc: 0.9622\n",
      "\n",
      "Epoch 00001: val_loss improved from inf to 0.02979, saving model to ./result/weights-01.h5\n",
      "Epoch 2/5\n",
      "203621/203621 [==============================] - 121s 593us/step - loss: 0.0100 - acc: 0.9887 - val_loss: 0.0254 - val_acc: 0.9693\n",
      "\n",
      "Epoch 00002: val_loss improved from 0.02979 to 0.02537, saving model to ./result/weights-02.h5\n",
      "Epoch 3/5\n",
      "203621/203621 [==============================] - 121s 592us/step - loss: 0.0042 - acc: 0.9953 - val_loss: 0.0264 - val_acc: 0.9670\n",
      "\n",
      "Epoch 00003: val_loss did not improve\n",
      "Epoch 4/5\n",
      "203621/203621 [==============================] - 124s 608us/step - loss: 0.0026 - acc: 0.9972 - val_loss: 0.0268 - val_acc: 0.9679\n",
      "\n",
      "Epoch 00004: val_loss did not improve\n",
      "Epoch 5/5\n",
      "203621/203621 [==============================] - 122s 601us/step - loss: 0.0018 - acc: 0.9981 - val_loss: 0.0301 - val_acc: 0.9641\n",
      "\n",
      "Epoch 00005: val_loss did not improve\n"
     ]
    }
   ],
   "source": [
    "# train the model - no recon\n",
    "# compile the model\n",
    "capsmodel.compile(optimizer=opt, #'adam',\n",
    "              loss=margin_loss,\n",
    "              metrics={'out_caps': 'accuracy'})\n",
    "\n",
    "data = capsmodel.fit( trainX, \n",
    "                      trainY_cat, \n",
    "                      batch_size=batch_size, \n",
    "                      epochs=epochs, \n",
    "                      validation_data=[devX, devY_cat], \n",
    "                      callbacks=[log, tb, checkpoint], \n",
    "                      verbose=1)"
   ]
  },
  {
   "cell_type": "code",
   "execution_count": 39,
   "metadata": {
    "collapsed": true
   },
   "outputs": [],
   "source": [
    "def plot_history( history):\n",
    "    # summarize history for accuracy\n",
    "    plt.plot(history.history['acc'])\n",
    "    plt.plot(history.history['val_acc'])\n",
    "    plt.title('model accuracy')\n",
    "    plt.ylabel('accuracy')\n",
    "    plt.xlabel('epoch')\n",
    "    plt.legend(['train', 'test'], loc='upper left')\n",
    "    plt.show()\n",
    "    # summarize history for loss\n",
    "    plt.plot(history.history['loss'])\n",
    "    plt.plot(history.history['val_loss'])\n",
    "    plt.title('model loss')\n",
    "    plt.ylabel('loss')\n",
    "    plt.xlabel('epoch')\n",
    "    plt.legend(['train', 'test'], loc='upper left')\n",
    "    plt.show()"
   ]
  },
  {
   "cell_type": "code",
   "execution_count": 40,
   "metadata": {},
   "outputs": [
    {
     "data": {
      "image/png": "[encoded data removed]",
      "text/plain": [
       "<Figure size 432x288 with 1 Axes>"
      ]
     },
     "metadata": {},
     "output_type": "display_data"
    },
    {
     "data": {
      "image/png": "[encoded data removed]",
      "text/plain": [
       "<Figure size 432x288 with 1 Axes>"
      ]
     },
     "metadata": {},
     "output_type": "display_data"
    },
    {
     "name": "stdout",
     "output_type": "stream",
     "text": [
      "------------------------------Begin: test------------------------------\n",
      "Test acc: 0.9388823086034241\n"
     ]
    }
   ],
   "source": [
    "plot_history(data)\n",
    "y_pred = capsmodel.predict(testX, batch_size=100)\n",
    "print('-'*30 + 'Begin: test' + '-'*30)\n",
    "print('Test acc:', np.sum(np.argmax(y_pred, 1) == np.argmax(testY_cat, 1))/testY_cat.shape[0])"
   ]
  },
  {
   "cell_type": "code",
   "execution_count": null,
   "metadata": {
    "collapsed": true
   },
   "outputs": [],
   "source": [
    "testPred = [ 3, 5, 3, 4, 7, 3, 9]\n",
    "testPred = np.array(testPred / np.linalg.norm(testPred))\n",
    "print(testPred)\n",
    "testTrue = trainY_cat[0]\n",
    "print(testTrue)"
   ]
  },
  {
   "cell_type": "code",
   "execution_count": null,
   "metadata": {
    "collapsed": true
   },
   "outputs": [],
   "source": [
    "#margin_loss( trainY_cat[0], testPred)\n",
    "L = testTrue * np.square(np.maximum(0., 0.9 - testPred)) + 0.5 * (1 - testTrue) * np.square(np.maximum(0., testPred - 0.1))\n",
    "print(L)\n",
    "print(np.mean(np.sum(L, 0)))"
   ]
  },
  {
   "cell_type": "code",
   "execution_count": null,
   "metadata": {
    "collapsed": true
   },
   "outputs": [],
   "source": [
    "\"\"\"# compile the model\n",
    "capsmodel.compile(optimizer=opt, #'adam',\n",
    "              loss=[margin_loss, 'mse'],\n",
    "              loss_weights=[1., lam_recon],\n",
    "              metrics={'out_caps': 'accuracy'})\n",
    "\n",
    "# train the model\n",
    "data = capsmodel.fit( [trainX, trainY_cat], \n",
    "                      [trainY_cat, trainX], \n",
    "                      batch_size=batch_size, \n",
    "                      epochs=epochs, \n",
    "                      #validation_data=[[devX], [devY_cat]], \n",
    "                      validation_data=[[devX, devY_cat], [devY_cat, devX]], \n",
    "                      callbacks=[log, tb, checkpoint], \n",
    "                      verbose=1)\n",
    "\"\"\""
   ]
  },
  {
   "cell_type": "code",
   "execution_count": null,
   "metadata": {
    "collapsed": true
   },
   "outputs": [],
   "source": [
    "trainX.shape\n",
    "trainY.shape"
   ]
  },
  {
   "cell_type": "code",
   "execution_count": null,
   "metadata": {
    "collapsed": true
   },
   "outputs": [],
   "source": [
    "print(devX.shape)\n",
    "print(devY.shape)\n",
    "print(devY_cat.shape)"
   ]
  },
  {
   "cell_type": "code",
   "execution_count": null,
   "metadata": {
    "collapsed": true
   },
   "outputs": [],
   "source": [
    "trainY.shape"
   ]
  },
  {
   "cell_type": "code",
   "execution_count": null,
   "metadata": {
    "collapsed": true
   },
   "outputs": [],
   "source": []
  },
  {
   "cell_type": "code",
   "execution_count": null,
   "metadata": {
    "collapsed": true
   },
   "outputs": [],
   "source": []
  }
 ],
 "metadata": {
  "kernelspec": {
   "display_name": "Python 3",
   "language": "python",
   "name": "python3"
  },
  "language_info": {
   "codemirror_mode": {
    "name": "ipython",
    "version": 3
   },
   "file_extension": ".py",
   "mimetype": "text/x-python",
   "name": "python",
   "nbconvert_exporter": "python",
   "pygments_lexer": "ipython3",
   "version": "3.6.3"
  }
 },
 "nbformat": 4,
 "nbformat_minor": 2
}
